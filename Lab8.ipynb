{
  "nbformat": 4,
  "nbformat_minor": 0,
  "metadata": {
    "colab": {
      "provenance": [],
      "authorship_tag": "ABX9TyPIM0oR3zH12LR7RfDnGbTB",
      "include_colab_link": true
    },
    "kernelspec": {
      "name": "python3",
      "display_name": "Python 3"
    },
    "language_info": {
      "name": "python"
    }
  },
  "cells": [
    {
      "cell_type": "markdown",
      "metadata": {
        "id": "view-in-github",
        "colab_type": "text"
      },
      "source": [
        "<a href=\"https://colab.research.google.com/github/jays-github2022/BSIS2-DV-Lab8-JAYSONB/blob/main/Lab8.ipynb\" target=\"_parent\"><img src=\"https://colab.research.google.com/assets/colab-badge.svg\" alt=\"Open In Colab\"/></a>"
      ]
    },
    {
      "cell_type": "markdown",
      "source": [
        "### **NUMPY**"
      ],
      "metadata": {
        "id": "PeO6haHLP1R4"
      }
    },
    {
      "cell_type": "code",
      "source": [
        "# price list\n",
        "price = [2, 1, 10] \n",
        "type(price)"
      ],
      "metadata": {
        "colab": {
          "base_uri": "https://localhost:8080/"
        },
        "id": "m0HKcCTKP7gJ",
        "outputId": "b69d550f-79c1-40f1-dd53-6f4d3072a2ce"
      },
      "execution_count": 1,
      "outputs": [
        {
          "output_type": "execute_result",
          "data": {
            "text/plain": [
              "list"
            ]
          },
          "metadata": {},
          "execution_count": 1
        }
      ]
    },
    {
      "cell_type": "code",
      "source": [
        "# quantity list\n",
        "quantity_sold = [17, 40, 1] \n",
        "type(quantity_sold)\n"
      ],
      "metadata": {
        "colab": {
          "base_uri": "https://localhost:8080/"
        },
        "id": "12VWEPrhQAWI",
        "outputId": "b7bc4cc1-4711-496e-9935-b3c325f8eaeb"
      },
      "execution_count": 2,
      "outputs": [
        {
          "output_type": "execute_result",
          "data": {
            "text/plain": [
              "list"
            ]
          },
          "metadata": {},
          "execution_count": 2
        }
      ]
    },
    {
      "cell_type": "code",
      "source": [
        "# performing calculations\n",
        "\n",
        "price * quantity_sold\n",
        "\n",
        "# You cannot perform calculations between lists"
      ],
      "metadata": {
        "id": "U33yV9akQKc7"
      },
      "execution_count": null,
      "outputs": []
    },
    {
      "cell_type": "code",
      "source": [
        "# In order to perform calculations, you have to convert a list into a numpy array\n",
        "\n",
        "import numpy as np"
      ],
      "metadata": {
        "id": "Y84uHJi4QS5M"
      },
      "execution_count": 3,
      "outputs": []
    },
    {
      "cell_type": "code",
      "source": [
        "price_array = np.array(price)\n",
        "quantity_sold_array = np.array(quantity_sold)\n",
        "type(price_array)\n",
        "type(quantity_sold_array)"
      ],
      "metadata": {
        "colab": {
          "base_uri": "https://localhost:8080/"
        },
        "id": "4kQmZwoIQXfV",
        "outputId": "b6613ed2-6e74-4374-c8a2-0d49ebf5a922"
      },
      "execution_count": 4,
      "outputs": [
        {
          "output_type": "execute_result",
          "data": {
            "text/plain": [
              "numpy.ndarray"
            ]
          },
          "metadata": {},
          "execution_count": 4
        }
      ]
    },
    {
      "cell_type": "code",
      "source": [
        "price_array * quantity_sold_array"
      ],
      "metadata": {
        "colab": {
          "base_uri": "https://localhost:8080/"
        },
        "id": "zNeb7P6PQa9G",
        "outputId": "8f8bf397-afb6-4cfe-a998-48b8eb8d9a53"
      },
      "execution_count": 5,
      "outputs": [
        {
          "output_type": "execute_result",
          "data": {
            "text/plain": [
              "array([34, 40, 10])"
            ]
          },
          "metadata": {},
          "execution_count": 5
        }
      ]
    },
    {
      "cell_type": "code",
      "source": [
        "cost_array = np.array([0.25, 0.50, 5.00])"
      ],
      "metadata": {
        "id": "GV99GM93QdlX"
      },
      "execution_count": 6,
      "outputs": []
    },
    {
      "cell_type": "code",
      "source": [
        "profit_array = price_array - cost_array \n",
        "print(profit_array)"
      ],
      "metadata": {
        "colab": {
          "base_uri": "https://localhost:8080/"
        },
        "id": "MB_6Cr-xQla3",
        "outputId": "bd3f5feb-9ee8-4e81-ed81-a4ed3fc0a09f"
      },
      "execution_count": 7,
      "outputs": [
        {
          "output_type": "stream",
          "name": "stdout",
          "text": [
            "[1.75 0.5  5.  ]\n"
          ]
        }
      ]
    },
    {
      "cell_type": "code",
      "source": [
        "profit_array > 2.00"
      ],
      "metadata": {
        "colab": {
          "base_uri": "https://localhost:8080/"
        },
        "id": "LmytLM6BQolo",
        "outputId": "cdfc6ccf-c23e-469c-94aa-dfccbc293469"
      },
      "execution_count": 8,
      "outputs": [
        {
          "output_type": "execute_result",
          "data": {
            "text/plain": [
              "array([False, False,  True])"
            ]
          },
          "metadata": {},
          "execution_count": 8
        }
      ]
    },
    {
      "cell_type": "code",
      "source": [
        "price_array = price_array + [7] \n",
        "print(price_array)"
      ],
      "metadata": {
        "colab": {
          "base_uri": "https://localhost:8080/"
        },
        "id": "qfqwnNlXQvzQ",
        "outputId": "f31012d0-64af-429d-81b9-f5ab3499f248"
      },
      "execution_count": 9,
      "outputs": [
        {
          "output_type": "stream",
          "name": "stdout",
          "text": [
            "[ 9  8 17]\n"
          ]
        }
      ]
    },
    {
      "cell_type": "code",
      "source": [
        "price_array = price_array - [7]"
      ],
      "metadata": {
        "id": "vGGIdpOiQy0h"
      },
      "execution_count": 10,
      "outputs": []
    },
    {
      "cell_type": "code",
      "source": [
        "np.append(price_array, 7) \n",
        "print(price_array)\n"
      ],
      "metadata": {
        "colab": {
          "base_uri": "https://localhost:8080/"
        },
        "id": "Xvh8TO3eQ1KR",
        "outputId": "0bfea6e5-b68f-48bc-a5b0-7ea8f1dcb791"
      },
      "execution_count": 11,
      "outputs": [
        {
          "output_type": "stream",
          "name": "stdout",
          "text": [
            "[ 2  1 10]\n"
          ]
        }
      ]
    },
    {
      "cell_type": "code",
      "source": [
        "price_array = np.append(price_array, [4.50, 3, 4, 9]) \n",
        "print(price_array)\n"
      ],
      "metadata": {
        "colab": {
          "base_uri": "https://localhost:8080/"
        },
        "id": "_CUjcv4GQ3bB",
        "outputId": "abc547e7-3e4c-4209-967c-4d6d93b2ed04"
      },
      "execution_count": 12,
      "outputs": [
        {
          "output_type": "stream",
          "name": "stdout",
          "text": [
            "[ 2.   1.  10.   4.5  3.   4.   9. ]\n"
          ]
        }
      ]
    },
    {
      "cell_type": "code",
      "source": [
        "print(price_array.dtype)"
      ],
      "metadata": {
        "colab": {
          "base_uri": "https://localhost:8080/"
        },
        "id": "2sWLXKMsQ5nZ",
        "outputId": "b22a9ff3-8b03-4dfd-ffd2-a824b437fdaf"
      },
      "execution_count": 13,
      "outputs": [
        {
          "output_type": "stream",
          "name": "stdout",
          "text": [
            "float64\n"
          ]
        }
      ]
    },
    {
      "cell_type": "code",
      "source": [
        "price_array = np.delete(price_array, -1) \n",
        "print(price_array)\n"
      ],
      "metadata": {
        "colab": {
          "base_uri": "https://localhost:8080/"
        },
        "id": "G1kNCxG1Q8gh",
        "outputId": "c1e4162d-6f50-449e-ff0f-a33966a53fd7"
      },
      "execution_count": 14,
      "outputs": [
        {
          "output_type": "stream",
          "name": "stdout",
          "text": [
            "[ 2.   1.  10.   4.5  3.   4. ]\n"
          ]
        }
      ]
    },
    {
      "cell_type": "code",
      "source": [
        "price_array[2] = 12 \n",
        "print(price_array)\n"
      ],
      "metadata": {
        "colab": {
          "base_uri": "https://localhost:8080/"
        },
        "id": "Y2U7xK3ZQ-5n",
        "outputId": "af60e0a5-b0be-4014-dcfc-a1fb8ac56a40"
      },
      "execution_count": 15,
      "outputs": [
        {
          "output_type": "stream",
          "name": "stdout",
          "text": [
            "[ 2.   1.  12.   4.5  3.   4. ]\n"
          ]
        }
      ]
    },
    {
      "cell_type": "code",
      "source": [
        "print (\"JAYSON BINABESE - BSIS 2\")"
      ],
      "metadata": {
        "colab": {
          "base_uri": "https://localhost:8080/"
        },
        "id": "1Sb3vCpyRBfx",
        "outputId": "3961c331-5d48-4138-a007-7047139d7dd7"
      },
      "execution_count": 16,
      "outputs": [
        {
          "output_type": "stream",
          "name": "stdout",
          "text": [
            "JAYSON BINABESE - BSIS 2\n"
          ]
        }
      ]
    },
    {
      "cell_type": "code",
      "source": [
        "print (\"DATA VISUALIZATION\")"
      ],
      "metadata": {
        "colab": {
          "base_uri": "https://localhost:8080/"
        },
        "id": "c3TLbKVqR8tS",
        "outputId": "6df285bc-b76b-4969-ed1a-a931e52ffb1b"
      },
      "execution_count": 17,
      "outputs": [
        {
          "output_type": "stream",
          "name": "stdout",
          "text": [
            "DATA VISUALIZATION\n"
          ]
        }
      ]
    }
  ]
}